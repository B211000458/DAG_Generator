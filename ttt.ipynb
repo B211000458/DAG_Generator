{
 "cells": [
  {
   "cell_type": "code",
   "execution_count": null,
   "metadata": {},
   "outputs": [],
   "source": [
    "from SOTA_Upgrade import *\n"
   ]
  },
  {
   "cell_type": "code",
   "execution_count": 33,
   "metadata": {},
   "outputs": [
    {
     "name": "stdout",
     "output_type": "stream",
     "text": [
      "二进制字符串: 71\n",
      "True\n",
      "3\n",
      "5\n",
      "0\n"
     ]
    }
   ],
   "source": [
    "positions = [0, 1, 2, 6]\n",
    "\n",
    "def list_to_binary(_pl):\n",
    "    return sum(1 << pos for pos in _pl)\n",
    "\n",
    "print(f\"二进制字符串: {list_to_binary(positions)}\")\n",
    "\n",
    "# print(1 << 0)\n",
    "print(list_to_binary([0, 1]) < list_to_binary([1, 2]))\n",
    "print(list_to_binary([0, 1]))\n",
    "print(list_to_binary([0, 2]))\n",
    "print(list_to_binary([]))"
   ]
  },
  {
   "cell_type": "code",
   "execution_count": 32,
   "metadata": {},
   "outputs": [
    {
     "data": {
      "text/plain": [
       "0"
      ]
     },
     "execution_count": 32,
     "metadata": {},
     "output_type": "execute_result"
    }
   ],
   "source": [
    "sum([])"
   ]
  },
  {
   "cell_type": "code",
   "execution_count": null,
   "metadata": {},
   "outputs": [
    {
     "data": {
      "text/plain": [
       "NodeDataView({0: {'d': 1}, 1: {'d': 1}, 2: {'d': 1}, 5: {'dd': 1}})"
      ]
     },
     "execution_count": 27,
     "metadata": {},
     "output_type": "execute_result"
    }
   ],
   "source": [
    "import networkx as nx\n",
    "dd = nx.DiGraph()\n",
    "dd.add_nodes_from([(_i, {'d':1}) for _i in range(3)])\n",
    "dd.add_edges_from([(0,1), (1,2)])\n",
    "ddx = nx.DiGraph(dd)\n",
    "ddx.add_node(5, dd=1)\n",
    "ddx.nodes(data=True)\n",
    "# dd.nodes(data=True)\n",
    "# dd.out_degree(1)\n",
    "\n",
    "            # __buff = set()\n",
    "\n",
    "            # _sour_num = _SubD.number_of_nodes()\n",
    "            # for _pn_group in combinations_with_replacement(_pg(_SubD, __t_d - 1, 1, _SubD.number_of_nodes()), _s[-1]):\n",
    "            #     __tdag = copy.deepcopy(_SubD)\n",
    "            #     __tdag.add_nodes_from([(_ni, {'d': __t_d}) for _ni in range(_sour_num, _sour_num + _s[-1])])\n",
    "\n",
    "            #     if __tt not in __buff:\n",
    "            #         __buff.add(__tt)\n",
    "            #         for _pi, _pns in enumerate(_pn_group): \n",
    "            #             _sour_num + _pi\n",
    "            #             __tdag.add_edges_from((_pnxi, _sour_num + _pi) for _pnxi in _pns)\n",
    "\n",
    "            #         yield __tdag"
   ]
  },
  {
   "cell_type": "code",
   "execution_count": null,
   "metadata": {},
   "outputs": [
    {
     "name": "stdout",
     "output_type": "stream",
     "text": [
      "(1,)\n",
      "(2,)\n",
      "(3,)\n",
      "(1, 1)\n",
      "(1, 2)\n",
      "(1, 3)\n",
      "(2, 2)\n",
      "(2, 3)\n",
      "(3, 3)\n",
      "(1, 1, 1)\n",
      "(1, 1, 2)\n",
      "(1, 1, 3)\n",
      "(1, 2, 2)\n",
      "(1, 2, 3)\n",
      "(1, 3, 3)\n",
      "(2, 2, 2)\n",
      "(2, 2, 3)\n",
      "(2, 3, 3)\n",
      "(3, 3, 3)\n"
     ]
    }
   ],
   "source": [
    "from itertools import chain, accumulate, groupby, product, zip_longest,  permutations, combinations, combinations_with_replacement\n",
    "\n",
    "# list(combinations_with_replacement([1, 2, 3], 2))\n",
    "\n",
    "def x(_dag, _l, _pnd, _pnu):\n",
    "    _pns = [_ni for _ni, _nd in _dag.nodes(data=True) if _nd['d'] == _l]\n",
    "    for _pnum in range(_pnd, _pnu + 1):\n",
    "        for _p_ns in combinations(_pns, _pnum):\n",
    "            _aa = set.union(*(set(nx.ancestors(_dag, _p_ni)) for _p_ni in _p_ns))\n",
    "            __sub_dag = _dag.subgraph(set(_dag.nodes()) - set(_p_ns) - _aa)\n",
    "            for _ans in nx.antichains(__sub_dag):\n",
    "                yield set(_ans) + set(_p_ns)\n",
    "\n",
    "            # 计算_p_ns的所有，\n",
    "            #  (1) 去前驱；\n",
    "            #  (2) 根据子DAG求antichain：\n",
    "            \n",
    "\n",
    "\n",
    "\n",
    "def all_combinations_with_replacement(elements, _d:int=1 , _u:int=float('Inf')):\n",
    "    for r in range(len(elements)):  # r 从 0 到 len(elements) 包括空集\n",
    "        yield from combinations_with_replacement(elements, r + 1)\n",
    "\n",
    "# 用法示例\n",
    "elements = [1, 2, 3]\n",
    "\n",
    "for combination in all_combinations_with_replacement(elements):\n",
    "    print(combination)\n"
   ]
  },
  {
   "cell_type": "code",
   "execution_count": 4,
   "metadata": {},
   "outputs": [
    {
     "ename": "NameError",
     "evalue": "name 'nx' is not defined",
     "output_type": "error",
     "traceback": [
      "\u001b[0;31m---------------------------------------------------------------------------\u001b[0m",
      "\u001b[0;31mNameError\u001b[0m                                 Traceback (most recent call last)",
      "Cell \u001b[0;32mIn[4], line 1\u001b[0m\n\u001b[0;32m----> 1\u001b[0m __tdag \u001b[38;5;241m=\u001b[39m \u001b[43mnx\u001b[49m\u001b[38;5;241m.\u001b[39mDiGraph()\n\u001b[1;32m      2\u001b[0m __tdag\u001b[38;5;241m.\u001b[39madd_nodes_from([(_ni, {\u001b[38;5;124m'\u001b[39m\u001b[38;5;124md\u001b[39m\u001b[38;5;124m'\u001b[39m: \u001b[38;5;241m1\u001b[39m}) \u001b[38;5;28;01mfor\u001b[39;00m _ni \u001b[38;5;129;01min\u001b[39;00m \u001b[38;5;28mrange\u001b[39m(\u001b[38;5;241m3\u001b[39m)])\n\u001b[1;32m      3\u001b[0m \u001b[38;5;66;03m# __tdag = nx.DiGraph()\u001b[39;00m\n\u001b[1;32m      4\u001b[0m \u001b[38;5;66;03m# __tdag.add_nodes_from(range(_s[0]))\u001b[39;00m\n",
      "\u001b[0;31mNameError\u001b[0m: name 'nx' is not defined"
     ]
    }
   ],
   "source": [
    "__tdag = nx.DiGraph()\n",
    "__tdag.add_nodes_from([(_ni, {'d': 1}) for _ni in range(3)])\n",
    "# __tdag = nx.DiGraph()\n",
    "# __tdag.add_nodes_from(range(_s[0]))\n",
    "__tdag.nodes(data=True)\n",
    "\n",
    "cx1 = (frozenset([1,2,3]), frozenset([2,3,4]))\n",
    "cx2 = (frozenset([1,2,3]), frozenset([2,3,4]))\n",
    "cx3 = (frozenset([1,2,3]), frozenset([2,3,4]))\n",
    "\n",
    "tuple(Counter([cx1, cx2, cx3]).items())"
   ]
  },
  {
   "cell_type": "code",
   "execution_count": null,
   "metadata": {},
   "outputs": [],
   "source": [
    "\"\"\"\n",
    "# def combination_exhaustion_free(n, l, sh_min, sh_max):  # 不能于shmin shmax 相等\n",
    "#     # elif l == n == 0:\n",
    "#     #     ret_list = [()]\n",
    "#     assert n > 0\n",
    "#     assert l > 0\n",
    "#     ret_list = []\n",
    "#     if l == 1 and sh_min < n < sh_max:\n",
    "#         ret_list = [(n,)]\n",
    "#     else:\n",
    "#         for source_node_num in range(sh_min + 1, sh_max):   # (sh_min, sh_max)\n",
    "#             input_node_num = n - source_node_num\n",
    "#             input_level_num = l - 1\n",
    "#             if sh_min * input_level_num < input_node_num < sh_max * input_level_num:\n",
    "#                 sat_list = combination_exhaustion_free(n-source_node_num, input_level_num, source_node_num-1, sh_max)\n",
    "#                 for sat_list_x in sat_list:\n",
    "#                     ret_list.append((source_node_num,) + sat_list_x)\n",
    "#     return ret_list\n",
    "\n",
    "def combination_exhaustion(n, l, sh_min, sh_max):\n",
    "    assert l > 2\n",
    "    assert n > 3\n",
    "    assert sh_max >= sh_min\n",
    "    ret_combination_exhaustion_list = []\n",
    "    if sh_min == sh_max:\n",
    "        if (l - 2) * sh_min == n - 2:\n",
    "            ret_combination_exhaustion_list = [(1, 1) + tuple([sh_min for _ in range(l - 2)])]\n",
    "    else:\n",
    "        assert l > 3\n",
    "        if sh_min + 1 == sh_max:    # 没有随机层\n",
    "            if sh_min * (l -2) <= n - 2 <= sh_max *  (l -2):\n",
    "                num_sh_max = n - 2 - sh_min * (l -2)\n",
    "                num_sh_min = l - 2 - num_sh_max\n",
    "                ret_combination_exhaustion_list = [(1, 1) + tuple([sh_min for _ in range(num_sh_min)]) +\n",
    "                                                            tuple([sh_max for _ in range(num_sh_max)])]\n",
    "        elif sh_max > sh_min + 1:\n",
    "            for num_sh_max in range(1, l - 1):  # [1, l-2]\n",
    "                for num_sh_min in range(1, l - 1 - num_sh_max):      # [1, l-2-num_sh_max]\n",
    "                    res_level_num = l - 2 - num_sh_max - num_sh_min  # 剩下的随机层,\n",
    "                    num_rnode_min = res_level_num * sh_min + 1\n",
    "                    num_rnode_max = res_level_num * sh_max - 1\n",
    "                    res_node_num = n - 2 - num_sh_min * sh_min - num_sh_max * sh_max\n",
    "                    # 可取的选择区间: res_node_num \\in (num_rnode_min, num_rnode_max)\n",
    "                    if num_rnode_min <= res_node_num <= num_rnode_max:\n",
    "                        temp_shape_num_list = combination_exhaustion_free(res_node_num, res_level_num, sh_min, sh_max)\n",
    "                        for temp_shape_num_x in temp_shape_num_list:\n",
    "                            ret_combination_exhaustion_list.append(temp_shape_num_x + (1, 1) +\n",
    "                                                                   tuple([sh_max for _ in range(num_sh_max)]) +\n",
    "                                                                   tuple([sh_min for _ in range(num_sh_min)]))\n",
    "        else:\n",
    "            os.system('error')\n",
    "    return ret_combination_exhaustion_list\n",
    "\n",
    "\"\"\"\n",
    "\n",
    "# def Algorithm_input(Algorithm, Algorithm_param_dict):\n",
    "#     dag_list = []\n",
    "#     if Algorithm == 'MINE_NEW':\n",
    "#         dag_list = __gen_mine_new(Algorithm_param_dict)\n",
    "#     else:\n",
    "#         pass\n",
    "#     return dag_list\n",
    "\n",
    "\n",
    "# #### DAG generator new mine 算法  #### #\n",
    "def __gen_mine_new(Param_Dict):\n",
    "    node_num = Param_Dict['Node_Num']\n",
    "    all_shape_list = shape_enumator(node_num, [1])\n",
    "    ret_dag_list = []\n",
    "    for shape_num_list in all_shape_list:\n",
    "        shape_list = shape_list_trance(shape_num_list)\n",
    "        dag_list = [nx.DiGraph()]\n",
    "        for level_id, self_node_list in enumerate(shape_list):\n",
    "            if (level_id + 1) == len(shape_list):\n",
    "                for dag_x in dag_list:\n",
    "                    p_nodes = [nodex for nodex in dag_x.nodes() if len(list(dag_x.successors(nodex))) == 0]\n",
    "                    dag_x.add_nodes_from([(self_node_list[0], {'level_num': level_id})])\n",
    "\n",
    "                    for p_node_x in p_nodes:\n",
    "                        dag_x.add_edge(p_node_x, self_node_list[0])\n",
    "            else:\n",
    "                temp_dag_list = []\n",
    "                for dag_x in dag_list:\n",
    "                    temp_dag_list += shape_dag_generator(dag_x, self_node_list, level_id)\n",
    "                dag_list = temp_dag_list\n",
    "        ret_dag_list += dag_list\n",
    "    return ret_dag_list"
   ]
  }
 ],
 "metadata": {
  "kernelspec": {
   "display_name": "Python 3",
   "language": "python",
   "name": "python3"
  },
  "language_info": {
   "codemirror_mode": {
    "name": "ipython",
    "version": 3
   },
   "file_extension": ".py",
   "mimetype": "text/x-python",
   "name": "python",
   "nbconvert_exporter": "python",
   "pygments_lexer": "ipython3",
   "version": "3.undefined.undefined"
  }
 },
 "nbformat": 4,
 "nbformat_minor": 2
}
